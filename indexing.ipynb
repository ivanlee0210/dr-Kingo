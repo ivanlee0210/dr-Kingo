{
 "cells": [
  {
   "cell_type": "markdown",
   "metadata": {},
   "source": [
    "## Load the libraries"
   ]
  },
  {
   "cell_type": "code",
   "execution_count": null,
   "metadata": {},
   "outputs": [],
   "source": [
    "from loguru import logger\n",
    "import os\n",
    "from dotenv import load_dotenv\n",
    "from database import get_engine, get_session, skkuMd\n",
    "from sqlalchemy.exc import SQLAlchemyError\n",
    "from llama_index.core import Document\n",
    "from llama_index.core.node_parser import MarkdownNodeParser"
   ]
  },
  {
   "cell_type": "markdown",
   "metadata": {},
   "source": [
    "## Create logger and load environment variables"
   ]
  },
  {
   "cell_type": "code",
   "execution_count": null,
   "metadata": {},
   "outputs": [],
   "source": [
    "logger.remove()\n",
    "logger.add(\"logs/md-indexer.log\", rotation=\"10 MB\")\n",
    "load_dotenv()\n",
    "\n",
    "aoi_api_key = os.getenv(\"AZURE_OPENAI_API_KEY\")\n",
    "aoi_endpoint = os.getenv(\"AZURE_OPENAI_ENDPOINT\")\n",
    "aoi_emb_model = os.getenv(\"AZURE_EMBEDDING_MODEL\")\n",
    "aoi_version = os.getenv(\"AZURE_GENERATION_MODEL_VERSION\")\n",
    "\n",
    "connection_string = os.getenv(\"DATABASE_URL\")"
   ]
  },
  {
   "cell_type": "markdown",
   "metadata": {},
   "source": [
    "## Create database connection engine"
   ]
  },
  {
   "cell_type": "code",
   "execution_count": null,
   "metadata": {},
   "outputs": [],
   "source": [
    "engine = get_engine()\n",
    "session = get_session(engine)"
   ]
  },
  {
   "cell_type": "markdown",
   "metadata": {},
   "source": [
    "## Create a document store from the Markdown records in our database"
   ]
  },
  {
   "cell_type": "code",
   "execution_count": null,
   "metadata": {},
   "outputs": [],
   "source": [
    "def get_markdown_list():\n",
    "    \"\"\"\n",
    "    Retrieves all records from the SkkuMd table and returns a list of dictionaries,\n",
    "    each containing 'url' and 'markdown' keys.\n",
    "    \"\"\"\n",
    "    try:\n",
    "\n",
    "        # Query all records from the SkkuMd table\n",
    "        records = session.query(skkuMd).all()\n",
    "\n",
    "        # Build the list of dictionaries\n",
    "        markdown_list = [{\n",
    "        'url': record.url,\n",
    "        'markdown': record.markdown,\n",
    "        'md_wrap_hash': record.md_wrap_hash,\n",
    "        'generation_date': record.generation_date\n",
    "        } for record in records]\n",
    "\n",
    "        logger.info(f\"Successfully retrieved {len(markdown_list)} records from table skku_md.\")\n",
    "        return markdown_list\n",
    "\n",
    "    except SQLAlchemyError as e:\n",
    "        logger.error(\"An error occurred while querying the database.\", exc_info=True)\n",
    "        return []\n",
    "\n",
    "def create_document_store(markdown_list):\n",
    "    \"\"\"\n",
    "    Creates a document store from the markdown_list, where each document has\n",
    "    'id_' set to the 'url' and 'text' set to the 'markdown'.\n",
    "    \"\"\"\n",
    "    documents = []\n",
    "    for item in markdown_list:\n",
    "        doc = Document(\n",
    "            text=item['markdown'],\n",
    "            id_=item['url']\n",
    "        )\n",
    "        documents.append(doc)\n",
    "    logger.info(f\"Successfully created a document store with {len(documents)} documents.\")\n",
    "    return documents"
   ]
  },
  {
   "cell_type": "code",
   "execution_count": null,
   "metadata": {},
   "outputs": [],
   "source": [
    "if __name__ == \"__main__\":\n",
    "    markdown_list = get_markdown_list()\n",
    "    document_store = create_document_store(markdown_list)"
   ]
  },
  {
   "cell_type": "markdown",
   "metadata": {},
   "source": [
    "## Let LLamaIndex chunk the documents into smaller pieces (nodes)"
   ]
  },
  {
   "cell_type": "code",
   "execution_count": null,
   "metadata": {},
   "outputs": [],
   "source": [
    "def parse_documents_to_nodes(document_store):\n",
    "    try:\n",
    "        parser = MarkdownNodeParser()  # optional list of tags\n",
    "        nodes = parser.get_nodes_from_documents(document_store)\n",
    "        logger.info(f\"Successfully created {len(nodes)} nodes from the document store.\")\n",
    "        return nodes\n",
    "    except Exception as e:\n",
    "        logger.error(\"An error occurred while parsing documents to nodes.\", exc_info=True)\n",
    "        return []\n",
    "\n",
    "nodes = parse_documents_to_nodes(document_store)"
   ]
  },
  {
   "cell_type": "markdown",
   "metadata": {},
   "source": [
    "## Use LLamaIndex and Azure OpenAI to calculate embeddings for each node and store into a **Vector Store**"
   ]
  },
  {
   "cell_type": "code",
   "execution_count": null,
   "metadata": {},
   "outputs": [],
   "source": [
    "from llama_index.embeddings.azure_openai import AzureOpenAIEmbedding\n",
    "from llama_index.core import Settings\n",
    "\n",
    "embed_model = AzureOpenAIEmbedding(\n",
    "    model=aoi_emb_model,\n",
    "    api_key=aoi_api_key,\n",
    "    azure_endpoint=aoi_endpoint,\n",
    "    api_version=aoi_version,\n",
    ")\n",
    "Settings.embed_model = embed_model"
   ]
  },
  {
   "cell_type": "code",
   "execution_count": null,
   "metadata": {},
   "outputs": [],
   "source": [
    "from llama_index.core import VectorStoreIndex, StorageContext\n",
    "from llama_index.vector_stores.supabase import SupabaseVectorStore\n",
    "\n",
    "vector_store = SupabaseVectorStore(\n",
    "    postgres_connection_string=connection_string,\n",
    "    collection_name=\"md_kingo\",\n",
    ")\n",
    "try:\n",
    "    storage_context = StorageContext.from_defaults(vector_store=vector_store)\n",
    "    index = VectorStoreIndex(nodes, storage_context=storage_context)\n",
    "    logger.info(\"Successfully created VectorStoreIndex.\")\n",
    "except Exception as e:\n",
    "    logger.error(\"An error occurred while creating VectorStoreIndex.\", exc_info=True)"
   ]
  }
 ],
 "metadata": {
  "kernelspec": {
   "display_name": "Python 3",
   "language": "python",
   "name": "python3"
  },
  "language_info": {
   "codemirror_mode": {
    "name": "ipython",
    "version": 3
   },
   "file_extension": ".py",
   "mimetype": "text/x-python",
   "name": "python",
   "nbconvert_exporter": "python",
   "pygments_lexer": "ipython3",
   "version": "3.11.4"
  }
 },
 "nbformat": 4,
 "nbformat_minor": 2
}
