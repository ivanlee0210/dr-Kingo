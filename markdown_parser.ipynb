{
 "cells": [
  {
   "cell_type": "markdown",
   "metadata": {},
   "source": [
    "## Load the libraries"
   ]
  },
  {
   "cell_type": "code",
   "execution_count": null,
   "metadata": {},
   "outputs": [],
   "source": [
    "from loguru import logger\n",
    "import os\n",
    "from dotenv import load_dotenv\n",
    "from bs4 import BeautifulSoup\n",
    "from sqlalchemy.exc import SQLAlchemyError, IntegrityError\n",
    "from database import get_engine, get_session, skkuHtml, skkuMd\n",
    "from tqdm import tqdm\n",
    "import json\n",
    "import pandas as pd\n",
    "import hashlib\n",
    "import requests"
   ]
  },
  {
   "cell_type": "markdown",
   "metadata": {},
   "source": [
    "## Create logger, load environment variables and database connection\n"
   ]
  },
  {
   "cell_type": "code",
   "execution_count": null,
   "metadata": {},
   "outputs": [],
   "source": [
    "## Load environment variables from .env file\n",
    "load_dotenv()\n",
    "\n",
    "## Set up logger\n",
    "logger.remove()\n",
    "logger.add(\"logs/markdown_parser.log\", rotation=\"10 MB\")\n",
    "\n",
    "engine = get_engine()\n",
    "session = get_session(engine)"
   ]
  },
  {
   "cell_type": "markdown",
   "metadata": {},
   "source": [
    "## Load the data from the skku_html table"
   ]
  },
  {
   "cell_type": "code",
   "execution_count": null,
   "metadata": {},
   "outputs": [],
   "source": [
    "# Query all records from the skkuHtml table and get the url and html_wrap_hash fields\n",
    "logger.debug(\"Loading url and html_wrap_hash fields from all records in the skkuHtml table.\")\n",
    "try:\n",
    "    records = session.query(skkuHtml.url, skkuHtml.cont_wrap_hash).all()\n",
    "    logger.info(f\"Loaded {len(records)} records from the skku_html table.\")\n",
    "    \n",
    "    # Convert the records to a dataframe\n",
    "    html_records = pd.DataFrame(records, columns=['url', 'cont_wrap_hash'])\n",
    "except Exception as e:\n",
    "    logger.error(f\"Failed to load records from skkuHtml. Error: {str(e)}\")"
   ]
  },
  {
   "cell_type": "markdown",
   "metadata": {},
   "source": [
    "## Load the data from the skku_md table"
   ]
  },
  {
   "cell_type": "code",
   "execution_count": null,
   "metadata": {},
   "outputs": [],
   "source": [
    "# Due the same for all records in the skku_md table, and get the url and html_wrap_hash fields\n",
    "logger.debug(\"Loading url and html_wrap_hash fields from all records in the skku_md table.\")\n",
    "try:\n",
    "    records = session.query(skkuMd.url, skkuMd.html_wrap_hash).all()\n",
    "    logger.info(f\"Loaded {len(records)} records from the skkuMd table.\")\n",
    "    \n",
    "    # Convert the records to a dataframe\n",
    "    md_records = pd.DataFrame(records, columns=['url', 'html_wrap_hash'])\n",
    "except Exception as e:\n",
    "    logger.error(f\"Failed to load records from skkuHtml. Error: {str(e)}\")"
   ]
  },
  {
   "cell_type": "markdown",
   "metadata": {},
   "source": [
    "## Compare those two tables and save the differences"
   ]
  },
  {
   "cell_type": "code",
   "execution_count": null,
   "metadata": {},
   "outputs": [],
   "source": [
    "# Create a dataframe to_parse that contains all the records from the skkuHtml table that do not match any records in the skkuMd table\n",
    "logger.debug(\"Creating a dataframe to_parse that contains all the records from the skkuHtml table that do not match any records in the skkuMd table.\")\n",
    "try:\n",
    "    to_parse = html_records[~html_records['cont_wrap_hash'].isin(md_records['html_wrap_hash'])]\n",
    "    logger.info(f\"Created a dataframe to_parse with {len(to_parse)} records.\")\n",
    "except Exception as e:\n",
    "    logger.error(f\"Failed to create a dataframe to_parse. Error: {str(e)}\")\n",
    "\n",
    "logger.info(f\"{len(to_parse)} urls to parse to Markdown format.\")"
   ]
  },
  {
   "cell_type": "markdown",
   "metadata": {},
   "source": [
    "## Create Azure OpenAI instance and test inference"
   ]
  },
  {
   "cell_type": "code",
   "execution_count": null,
   "metadata": {},
   "outputs": [],
   "source": [
    "from openai import AzureOpenAI, OpenAIError\n",
    "\n",
    "aoi_api_key = os.getenv(\"AZURE_OPENAI_API_KEY\")\n",
    "aoi_endpoint = os.getenv(\"AZURE_OPENAI_ENDPOINT\")\n",
    "aoi_gen_model = os.getenv(\"AZURE_GENERATION_MODEL\")\n",
    "aoi_version = os.getenv(\"AZURE_GENERATION_MODEL_VERSION\")\n",
    "\n",
    "logger.info(f\"Creating an instance of the AzureOpenAI class with the following parameters: endpoint={aoi_endpoint}, api_version={aoi_version}\")\n",
    "\n",
    "client = AzureOpenAI(azure_endpoint=aoi_endpoint,api_key=aoi_api_key, api_version=aoi_version)"
   ]
  },
  {
   "cell_type": "code",
   "execution_count": null,
   "metadata": {},
   "outputs": [],
   "source": [
    "## Test the completion API\n",
    "\n",
    "completion = client.chat.completions.create(\n",
    "    model=aoi_gen_model, # This must match the custom deployment name you chose for your model.\n",
    "    messages=[\n",
    "        {\"role\": \"user\", \"content\": \"How ya feeling today?\"},\n",
    "    ],\n",
    ")\n",
    "\n",
    "print(completion.choices[0].message.content)"
   ]
  },
  {
   "cell_type": "markdown",
   "metadata": {},
   "source": [
    "## Function to dynamically generate a prompt"
   ]
  },
  {
   "cell_type": "code",
   "execution_count": null,
   "metadata": {},
   "outputs": [],
   "source": [
    "def create_prompt(prompt_file, html_content):\n",
    "\tlogger.info(f\"Creating a prompt based on {prompt_file} and the HTML content.\")\n",
    "\t# Load the prompt file\n",
    "\twith open(prompt_file, 'r') as f:\n",
    "\t\tprompt = f.read()\n",
    "\t\t# Add the HTML content to the prompt\n",
    "\t\tprompt += f\"\\n\\n{html_content}\\n\"\n",
    "\treturn prompt\n",
    "\n",
    "# Function to make the Azure OpenAI API call and generate the markdown output\n",
    "def generate_markdown_from_html(prompt_file, html_content, timeout=60):\n",
    "    prompt = create_prompt(prompt_file, html_content)\n",
    "    \n",
    "    try:\n",
    "        completion = client.chat.completions.create(\n",
    "            model=aoi_gen_model, \n",
    "            messages=[{\"role\": \"user\", \"content\": prompt}],\n",
    "            timeout=timeout  # Set the timeout here\n",
    "        )\n",
    "        logger.debug(completion.usage)\n",
    "        # Return the generated markdown content\n",
    "        return completion\n",
    "    except requests.exceptions.Timeout:\n",
    "        logger.error(\"The request timed out.\")\n",
    "        return None\n",
    "    except OpenAIError as e:\n",
    "        logger.error(f\"OpenAI API error: {str(e)}\")\n",
    "        return None"
   ]
  },
  {
   "cell_type": "markdown",
   "metadata": {},
   "source": [
    "## Function for title and html content extraction"
   ]
  },
  {
   "cell_type": "code",
   "execution_count": null,
   "metadata": {},
   "outputs": [],
   "source": [
    "def process_title(title):\n",
    "    # Split the title by '|'\n",
    "    segments = title.split('|')\n",
    "    \n",
    "    # Remove the first segment (Sungkyunkwan University)\n",
    "    segments = segments[1:]\n",
    "    \n",
    "    # Keep only the last three segments\n",
    "    if len(segments) > 3:\n",
    "        segments = segments[-3:]\n",
    "    \n",
    "    # Join the segments back with '|'\n",
    "    processed_title = ' | '.join(segment.strip() for segment in segments)\n",
    "    \n",
    "    return processed_title\n",
    "\n",
    "def extract_content(html):\n",
    "    soup = BeautifulSoup(html, 'html.parser')\n",
    "    title = process_title(soup.title.string)\n",
    "    cont_wrap_div = soup.find('div', class_='cont_wrap')\n",
    "    return {'title': title, 'cont_wrap': cont_wrap_div}"
   ]
  },
  {
   "cell_type": "code",
   "execution_count": null,
   "metadata": {},
   "outputs": [],
   "source": [
    "# # Get 10 random rows from the DataFrame\n",
    "# to_parse = to_parse.sample(n=10, random_state=1)"
   ]
  },
  {
   "cell_type": "markdown",
   "metadata": {},
   "source": [
    "## Create the Markdown content from HTML files and save into the database"
   ]
  },
  {
   "cell_type": "code",
   "execution_count": null,
   "metadata": {},
   "outputs": [],
   "source": [
    "for index, row in tqdm(to_parse.iterrows(), total=to_parse.shape[0], desc=\"Processing records\"):\n",
    "    url = row['url']\n",
    "    cont_wrap_hash = row['cont_wrap_hash']\n",
    "\n",
    "    ## From the skkuHtml get the html content for the given url\n",
    "    logger.debug(f\"Loading HTML content for {url}.\")\n",
    "    try:\n",
    "        html_content = session.query(skkuHtml.html).filter(skkuHtml.url == url).first()\n",
    "        html_content_str = html_content[0]  # Get the HTML content as a string\n",
    "        logger.info(f\"Loaded HTML content for {url}.\")\n",
    "    except Exception as e:\n",
    "        logger.error(f\"Failed to load HTML content for {url}. Error: {str(e)}\")\n",
    "\n",
    "    ## Extract the content from the HTML\n",
    "    logger.debug(\"Extracting content from the HTML.\")\n",
    "    page_title = extract_content(html_content_str)['title']\n",
    "\n",
    "    logger.debug(f\"Page title: {page_title}\")\n",
    "\n",
    "    # Inject the title as <h1> into the HTML content\n",
    "    cont_wrap_div = extract_content(html_content_str)['cont_wrap']\n",
    "    cont_wrap_div = f\"<h1>{page_title}</h1>\\n{cont_wrap_div}\"\n",
    "\n",
    "    # Generate Markdown from the HTML content\n",
    "    prompt_path = \"prompts/1.txt\"\n",
    "    try:\n",
    "        completion = generate_markdown_from_html(prompt_path, cont_wrap_div)\n",
    "        usage = json.dumps(completion.usage.model_dump())  # Convert the usage dictionary to a JSON string\n",
    "        total_tokens = completion.usage.total_tokens\n",
    "        model = completion.model\n",
    "        created = completion.created\n",
    "        markdown = completion.choices[0].message.content\n",
    "        logger.info(f\"Generated markdown for URL: {url}\")\n",
    "    except Exception as e:\n",
    "        logger.error(f\"Failed to generate markdown for URL: {url}. Error: {str(e)}\")\n",
    "        continue\n",
    "\n",
    "    # Calculate the hash of the markdown content\n",
    "    md_wrap_hash = hashlib.md5(markdown.encode()).hexdigest()\n",
    "\n",
    "    try:\n",
    "        md_record = skkuMd(url=row['url'], html_wrap_hash=row['cont_wrap_hash'], md_wrap_hash=md_wrap_hash, markdown=markdown, usage=usage, model=model, created=created, total_tokens=total_tokens)\n",
    "        session.merge(md_record)\n",
    "        session.commit()\n",
    "        logger.info(f\"Markdown content saved to skkuMd table for URL: {url}\")\n",
    "    except IntegrityError as e:\n",
    "        session.rollback()\n",
    "        logger.error(f\"Failed to save markdown content to skkuMd table for URL: {url}. Error: {str(e)}\")\n",
    "    except SQLAlchemyError as e:\n",
    "        session.rollback()\n",
    "        logger.error(f\"Failed to save markdown content to skkuMd table for URL: {url}. Error: {str(e)}\")\n"
   ]
  },
  {
   "cell_type": "code",
   "execution_count": null,
   "metadata": {},
   "outputs": [],
   "source": []
  }
 ],
 "metadata": {
  "kernelspec": {
   "display_name": "Python 3",
   "language": "python",
   "name": "python3"
  },
  "language_info": {
   "codemirror_mode": {
    "name": "ipython",
    "version": 3
   },
   "file_extension": ".py",
   "mimetype": "text/x-python",
   "name": "python",
   "nbconvert_exporter": "python",
   "pygments_lexer": "ipython3",
   "version": "3.11.4"
  }
 },
 "nbformat": 4,
 "nbformat_minor": 2
}
